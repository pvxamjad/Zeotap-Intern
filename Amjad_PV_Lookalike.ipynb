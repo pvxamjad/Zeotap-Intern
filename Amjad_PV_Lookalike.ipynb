{
 "cells": [
  {
   "cell_type": "code",
   "execution_count": 3,
   "id": "f311fb5a-aa69-4261-abc0-4c01fc2c73eb",
   "metadata": {},
   "outputs": [],
   "source": [
    "import pandas as pd\n",
    "from sklearn.metrics.pairwise import cosine_similarity\n",
    "from sklearn.preprocessing import StandardScaler\n",
    "\n",
    "# Load data\n",
    "customers = pd.read_csv('Customers.csv')\n",
    "products = pd.read_csv('Products.csv')\n",
    "transactions = pd.read_csv('Transactions.csv')\n",
    "\n",
    "# Merge customer and transaction data\n",
    "customer_transactions = pd.merge(transactions, customers, on='CustomerID')\n",
    "\n",
    "# Create a user-item matrix with transaction history\n",
    "# Assume each row is a transaction and each column represents a product category\n",
    "# Aggregating data by customer and product\n",
    "customer_product_matrix = customer_transactions.groupby(['CustomerID', 'ProductID']).size().unstack(fill_value=0)\n",
    "\n",
    "# Normalize the data\n",
    "scaler = StandardScaler()\n",
    "customer_product_matrix_scaled = scaler.fit_transform(customer_product_matrix)\n",
    "\n",
    "# Compute cosine similarity between customers\n",
    "similarity_matrix = cosine_similarity(customer_product_matrix_scaled)\n",
    "\n",
    "# Create a DataFrame for similarity scores\n",
    "similarity_df = pd.DataFrame(similarity_matrix, index=customer_product_matrix.index, columns=customer_product_matrix.index)\n",
    "\n",
    "# Define a function to get top 3 similar customers\n",
    "def get_top_3_similar(customers_df, similarity_df, customer_id):\n",
    "    similar_customers = similarity_df[customer_id].sort_values(ascending=False)\n",
    "    similar_customers = similar_customers.drop(customer_id)  # Exclude the customer themselves\n",
    "    top_3 = similar_customers.head(3)\n",
    "    return top_3\n",
    "\n",
    "# Get top 3 similar customers for the first 20 customers\n",
    "lookalike_map = {}\n",
    "for customer_id in customers['CustomerID'].head(20):  # First 20 customers\n",
    "    top_3 = get_top_3_similar(customers, similarity_df, customer_id)\n",
    "    lookalike_map[customer_id] = [(top_3.index[i], top_3.values[i]) for i in range(3)]\n",
    "\n",
    "# Create a new DataFrame for the Lookalike.csv\n",
    "lookalike_data = []\n",
    "for customer_id, similar_customers in lookalike_map.items():\n",
    "    for lookalike, score in similar_customers:\n",
    "        lookalike_data.append([customer_id, lookalike, score])\n",
    "\n",
    "lookalike_df = pd.DataFrame(lookalike_data, columns=['cust_id', 'lookalike_customer', 'score'])\n",
    "\n",
    "# Export the lookalike recommendations to CSV\n",
    "lookalike_df.to_csv('Amjad_PV_Lookalike.csv', index=False)\n"
   ]
  },
  {
   "cell_type": "code",
   "execution_count": null,
   "id": "b28816f6-774b-4513-ad8f-553968c446b0",
   "metadata": {},
   "outputs": [],
   "source": []
  }
 ],
 "metadata": {
  "kernelspec": {
   "display_name": "Python 3 (ipykernel)",
   "language": "python",
   "name": "python3"
  },
  "language_info": {
   "codemirror_mode": {
    "name": "ipython",
    "version": 3
   },
   "file_extension": ".py",
   "mimetype": "text/x-python",
   "name": "python",
   "nbconvert_exporter": "python",
   "pygments_lexer": "ipython3",
   "version": "3.12.8"
  }
 },
 "nbformat": 4,
 "nbformat_minor": 5
}
